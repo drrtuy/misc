{
 "cells": [
  {
   "cell_type": "code",
   "execution_count": 117,
   "metadata": {},
   "outputs": [
    {
     "name": "stdout",
     "output_type": "stream",
     "text": [
      "The autoreload extension is already loaded. To reload it, use:\n",
      "  %reload_ext autoreload\n"
     ]
    }
   ],
   "source": [
    "%load_ext autoreload\n",
    "%autoreload 2\n",
    "\n",
    "%matplotlib inline"
   ]
  },
  {
   "cell_type": "code",
   "execution_count": 118,
   "metadata": {},
   "outputs": [],
   "source": [
    "import matplotlib.pyplot as plt\n",
    "import numpy as np"
   ]
  },
  {
   "cell_type": "markdown",
   "metadata": {},
   "source": [
    "# Задание 1 из ДЗ"
   ]
  },
  {
   "cell_type": "code",
   "execution_count": 119,
   "metadata": {},
   "outputs": [],
   "source": [
    "import numpy as np\n",
    "\n",
    "import matplotlib.pyplot as plt\n",
    "\n",
    "# Задаю выборку\n",
    "sample = np.array([1.8, 2, 3.3, 2.6, 1.3, -4, 0.5, 0.7, -0.7, 5.1, 5.7, 2])"
   ]
  },
  {
   "cell_type": "markdown",
   "metadata": {},
   "source": [
    "# Несмещенная оценка мат ожидания"
   ]
  },
  {
   "cell_type": "code",
   "execution_count": 120,
   "metadata": {},
   "outputs": [
    {
     "name": "stdout",
     "output_type": "stream",
     "text": [
      "Неспещеная оценка мат ожидания 1.6916666666666664\n"
     ]
    }
   ],
   "source": [
    "x = .0\n",
    "for s in sample:\n",
    "    x = x + s\n",
    "x = x / len(sample)\n",
    "print(\"Неспещеная оценка мат ожидания {}\".format(x))"
   ]
  },
  {
   "cell_type": "markdown",
   "metadata": {},
   "source": [
    "# Несмещенная оценка дисперсии с несмещенной оценкой мат ожидания"
   ]
  },
  {
   "cell_type": "code",
   "execution_count": 121,
   "metadata": {},
   "outputs": [
    {
     "name": "stdout",
     "output_type": "stream",
     "text": [
      "Неспещенная оценка дисперсии 6.542651515151515\n"
     ]
    }
   ],
   "source": [
    "sigma = .0\n",
    "for s in sample:\n",
    "    sigma = sigma + (s - x)**2\n",
    "sigma = sigma / (len(sample) - 1)\n",
    "print(f\"Неспещенная оценка дисперсии {sigma}\")"
   ]
  },
  {
   "cell_type": "markdown",
   "metadata": {},
   "source": [
    "# Несмещенная оценка дисперсии с фактическим значением мат ожидания"
   ]
  },
  {
   "cell_type": "code",
   "execution_count": 122,
   "metadata": {
    "scrolled": true
   },
   "outputs": [
    {
     "name": "stdout",
     "output_type": "stream",
     "text": [
      "оценка дисперсии с фактическим мат ожиданием 6.034166666666667\n",
      "Погрешность оценки дисперсии 8.633333333333333%\n"
     ]
    }
   ],
   "source": [
    "sigma_real_calc = .0\n",
    "mean = 1.5\n",
    "sigma_real = 2.5\n",
    "\n",
    "for s in sample:\n",
    "    sigma_real_calc = sigma_real_calc + (s - mean)**2\n",
    "\n",
    "sigma_real_calc = sigma_real_calc / (len(sample))\n",
    "print(\"оценка дисперсии с фактическим мат ожиданием {}\".format(sigma_real_calc))\n",
    "# Погрешность\n",
    "print(\"Погрешность оценки дисперсии {}%\".format(abs(sigma_real_calc-sigma_real**2) / sigma_real * 100))"
   ]
  },
  {
   "cell_type": "markdown",
   "metadata": {},
   "source": [
    "# Задание 2 из ДЗ. Метод моментов"
   ]
  },
  {
   "cell_type": "markdown",
   "metadata": {},
   "source": [
    "# Оценки мат ожидания и дисперсии для нормального распределения"
   ]
  },
  {
   "cell_type": "code",
   "execution_count": 123,
   "metadata": {
    "scrolled": false
   },
   "outputs": [
    {
     "name": "stdout",
     "output_type": "stream",
     "text": [
      "Оценка мат ожидания 27.680000000000003\n",
      "Оценка дисперсии 8.073264519387433\n"
     ]
    }
   ],
   "source": [
    "freqs = [6, 7, 11, 17, 19, 18, 13, 5, 3, 1]\n",
    "l = len(freqs)\n",
    "total_n = 100.\n",
    "min_ = 10\n",
    "max_ = 54\n",
    "step = int((max_-min_)/l)\n",
    "max_ = max_ + step\n",
    "ranges = [s for s in range(min_ ,max_, step)]\n",
    "means = []\n",
    "calc_freqs = [f/total_n for f in freqs]\n",
    "\n",
    "for idx in range(0,l):\n",
    "    means.append((ranges[idx] + ranges[idx+1])/2)\n",
    "    \n",
    "#print(ranges)\n",
    "#print(means)\n",
    "#print(calc_freqs)\n",
    "\n",
    "calc_mean = 0.\n",
    "for idx in range(0,l):\n",
    "    calc_mean = calc_mean + means[idx]*calc_freqs[idx]\n",
    "\n",
    "print(f\"Оценка мат ожидания {calc_mean}\")\n",
    "\n",
    "calc_sigma = .0\n",
    "for idx in range(0,10):\n",
    "    calc_sigma = calc_sigma + (calc_mean - means[idx])**2*calc_freqs[idx]\n",
    "\n",
    "print(f\"Оценка дисперсии {calc_sigma**0.5}\")"
   ]
  },
  {
   "cell_type": "markdown",
   "metadata": {},
   "source": [
    "# Оценки параметров равномерного распределения"
   ]
  },
  {
   "cell_type": "code",
   "execution_count": 124,
   "metadata": {},
   "outputs": [
    {
     "name": "stdout",
     "output_type": "stream",
     "text": [
      "Оценка параметр а 13.696695669477837\n",
      "Оценка параметр а 41.663304330522166\n"
     ]
    }
   ],
   "source": [
    "print(f\"Оценка параметр а {calc_mean-calc_sigma**0.5*3**0.5}\")\n",
    "print(f\"Оценка параметр а {calc_mean+calc_sigma**0.5*3**0.5}\")"
   ]
  },
  {
   "cell_type": "markdown",
   "metadata": {},
   "source": [
    "# Задание 3 из ДЗ. Метод максимального правдоподобия"
   ]
  },
  {
   "cell_type": "markdown",
   "metadata": {},
   "source": [
    "# Нормальное распределение"
   ]
  },
  {
   "cell_type": "code",
   "execution_count": 125,
   "metadata": {},
   "outputs": [
    {
     "name": "stdout",
     "output_type": "stream",
     "text": [
      "[3, 4, 5, 6, 7, 8, 9, 10, 11, 12, 13, 14, 15]\n",
      "[3.5, 4.5, 5.5, 6.5, 7.5, 8.5, 9.5, 10.5, 11.5, 12.5, 13.5, 14.5]\n",
      "[0.08163265306122448, 0.08503401360544217, 0.0782312925170068, 0.09183673469387756, 0.08843537414965986, 0.08503401360544217, 0.08503401360544217, 0.0782312925170068, 0.08163265306122448, 0.0782312925170068, 0.0782312925170068, 0.08843537414965986]\n",
      "Оценка мат ожидания 8.965986394557822\n",
      "Оценка дисперсии 2.747964284937694\n"
     ]
    },
    {
     "data": {
      "image/png": "[encoded data removed]",
      "text/plain": [
       "<Figure size 432x288 with 1 Axes>"
      ]
     },
     "metadata": {
      "needs_background": "light"
     },
     "output_type": "display_data"
    }
   ],
   "source": [
    "freqs = [24, 25, 23, 27, 26, 25, 25, 23, 24, 23, 23, 26]\n",
    "total_n = sum(freqs)\n",
    "l = len(freqs)\n",
    "min_ = 3\n",
    "max_ = 15\n",
    "step = int((max_-min_)/l)\n",
    "max_ = max_ + step\n",
    "ranges = [s for s in range(min_ ,max_, step)]\n",
    "means = []\n",
    "calc_freqs = [f/total_n for f in freqs]\n",
    "\n",
    "for idx in range(0,l):\n",
    "    means.append((ranges[idx] + ranges[idx+1])/2)\n",
    "    \n",
    "print(ranges)\n",
    "print(means)\n",
    "print(calc_freqs)\n",
    "\n",
    "calc_mean = 0.\n",
    "for idx in range(0,l):\n",
    "    calc_mean = calc_mean + means[idx]*calc_freqs[idx]\n",
    "\n",
    "print(f\"Оценка мат ожидания {calc_mean}\")\n",
    "\n",
    "calc_sigma = .0\n",
    "for idx in range(0,10):\n",
    "    calc_sigma = calc_sigma + (calc_mean - means[idx])**2*calc_freqs[idx]\n",
    "\n",
    "print(f\"Оценка дисперсии {calc_sigma**0.5}\")\n",
    "\n",
    "# Гистограмма\n",
    "run = []\n",
    "for i in range(min_, max_-1):\n",
    "    run += [ i for v in range(0,freqs[i-min_]) ]\n",
    "fig2 = plt.figure()\n",
    "hist1 = fig2.add_subplot(111)\n",
    "hist1.set_ylabel('частота')\n",
    "hist1.set_title('значение')\n",
    "\n",
    "plt.hist(run, len(freqs),\n",
    "         density=True,\n",
    "         histtype='bar',\n",
    "         facecolor='b',\n",
    "         alpha=0.5)\n",
    "\n",
    "plt.show()"
   ]
  },
  {
   "cell_type": "markdown",
   "metadata": {},
   "source": [
    "# Равномерное распределение"
   ]
  },
  {
   "cell_type": "code",
   "execution_count": 126,
   "metadata": {},
   "outputs": [
    {
     "name": "stdout",
     "output_type": "stream",
     "text": [
      "оценка равномерной плотности 4.081632653061225 %\n"
     ]
    }
   ],
   "source": [
    "#С учетом данных слайда №25 из лекции\n",
    "#оценка a\n",
    "x_min = 3\n",
    "x_max = 15\n",
    "n = 294\n",
    "\n",
    "a = x_min\n",
    "# оценка b \n",
    "b = x_max\n",
    "freq = (b - a) / n\n",
    "print(f\"оценка равномерной плотности {freq*100} %\")\n"
   ]
  },
  {
   "cell_type": "markdown",
   "metadata": {},
   "source": [
    "# Интервальная оценка вероятности в выборках распределения Бернулли"
   ]
  },
  {
   "cell_type": "code",
   "execution_count": 127,
   "metadata": {},
   "outputs": [],
   "source": [
    "p_low = 0.2\n",
    "p_mid = 0.55\n",
    "p_high = 0.87\n",
    "n = 100\n",
    "\n",
    "# три выборки с распределением Бернулли с различной вероятностью\n",
    "sample_low = np.random.binomial(1, p_low, n)\n",
    "sample_mid = np.random.binomial(1, p_mid, n)\n",
    "sample_high = np.random.binomial(1, p_high, n)\n",
    "#print(sample_low)\n",
    "\n",
    "# кол-во успешных попыток\n",
    "success_low = np.count_nonzero(sample_low == 1)\n",
    "success_mid = np.count_nonzero(sample_mid == 1)\n",
    "success_high = np.count_nonzero(sample_high == 1)\n",
    "\n",
    "success_low_pr = success_low/n\n",
    "success_mid_pr = success_mid/n\n",
    "success_high_pr = success_high/n\n",
    "\n",
    "# alpha = 0.05 берём 0.975 квантиль нормального распределения\n",
    "z_95 = 1.959964\n",
    "# alpha = 0.4 берём 0.8 квантиль нормального распределения\n",
    "z_60 = 0.841621\n",
    "\n",
    "def walld_conf_interval_estimator(success_pr, quantile):\n",
    "    low = success_pr - quantile * (success_pr*(1.-success_pr)/n)**0.5\n",
    "    high = success_pr + quantile * (success_pr*(1.-success_pr)/n)**0.5\n",
    "    return (low, high)\n",
    "\n",
    "\n",
    "def willson_conf_interval_estimator(success_pr, quantile, n):\n",
    "    square_root = (success_pr * (1 - success_pr)/n + quantile**2/(4 * n**2))**0.5\n",
    "    denominator = 1 + quantile**2/n\n",
    "    low = (success_pr + quantile**2/(2*n) - quantile * square_root) / denominator\n",
    "    high = (success_pr + quantile**2/(2*n) + quantile * square_root) / denominator\n",
    "    return (low, high)\n",
    "\n",
    "# оценка по Walld-у с уверенность 95%\n",
    "est_walld_95_low_a, est_walld_95_low_b = walld_conf_interval_estimator(success_low_pr, z_95)\n",
    "est_walld_95_mid_a, est_walld_95_mid_b = walld_conf_interval_estimator(success_mid_pr, z_95)\n",
    "est_walld_95_high_a, est_walld_95_high_b = walld_conf_interval_estimator(success_high_pr, z_95)\n",
    "\n",
    "# оценка по Walld-у с уверенность 60%\n",
    "est_walld_60_low_a, est_walld_60_low_b = walld_conf_interval_estimator(success_low_pr, z_60)\n",
    "est_walld_60_mid_a, est_walld_60_mid_b = walld_conf_interval_estimator(success_mid_pr, z_60)\n",
    "est_walld_60_high_a, est_walld_60_high_b = walld_conf_interval_estimator(success_high_pr, z_60)\n",
    "\n",
    "# оценка по Wilson-у с уверенностью 95%\n",
    "est_wilson_95_low_a, est_wilson_95_low_b = willson_conf_interval_estimator(success_low_pr, z_95, n)\n",
    "est_wilson_95_mid_a, est_wilson_95_mid_b = willson_conf_interval_estimator(success_mid_pr, z_95, n)\n",
    "est_wilson_95_high_a, est_wilson_95_high_b = willson_conf_interval_estimator(success_high_pr, z_95, n)\n",
    "\n",
    "# оценка по Wilson-у с уверенностью 60%\n",
    "est_wilson_60_low_a, est_wilson_60_low_b = willson_conf_interval_estimator(success_low_pr, z_60, n)\n",
    "est_wilson_60_mid_a, est_wilson_60_mid_b = willson_conf_interval_estimator(success_mid_pr, z_60, n)\n",
    "est_wilson_60_high_a, est_wilson_60_high_b = willson_conf_interval_estimator(success_high_pr, z_60, n)\n"
   ]
  },
  {
   "cell_type": "code",
   "execution_count": 128,
   "metadata": {},
   "outputs": [
    {
     "data": {
      "text/plain": [
       "<matplotlib.legend.Legend at 0x7f9e0e2cb970>"
      ]
     },
     "execution_count": 128,
     "metadata": {},
     "output_type": "execute_result"
    },
    {
     "data": {
      "image/png": "[encoded data removed]",
      "text/plain": [
       "<Figure size 864x576 with 1 Axes>"
      ]
     },
     "metadata": {
      "needs_background": "light"
     },
     "output_type": "display_data"
    }
   ],
   "source": [
    "# точечные графики оценок вероятности доверительными интервалами в выборках\n",
    "fig, ax = plt.subplots(figsize=(12,8))\n",
    "\n",
    "idx = 1\n",
    "x_1 = np.array([idx, idx])\n",
    "y_1_walld = np.array([est_walld_95_low_a, est_walld_95_low_b])\n",
    "y_1_wilson = np.array([est_wilson_95_low_a, est_wilson_95_low_b])\n",
    "\n",
    "idx = idx + 1\n",
    "x_2 = np.array([idx, idx])\n",
    "y_2_walld = np.array([est_walld_95_mid_a, est_walld_95_mid_b])\n",
    "y_2_wilson = np.array([est_wilson_95_mid_a, est_wilson_95_mid_b])\n",
    "\n",
    "idx = idx + 1\n",
    "x_3 = np.array([idx, idx])\n",
    "y_3_walld = np.array([est_walld_95_high_a, est_walld_95_high_b])\n",
    "y_3_wilson = np.array([est_wilson_95_high_a, est_wilson_95_high_b])\n",
    "\n",
    "ax.scatter(x_1, y_1_walld, label = f'p={p_low} Wald %')\n",
    "ax.scatter(x_1, y_1_wilson, label = f'p={p_low} Wilson 95%')\n",
    "ax.scatter(x_2, y_2_walld, label = f'p={p_mid} Wald 95%')\n",
    "ax.scatter(x_2, y_2_wilson, label = f'p={p_mid} Wilson 95%')\n",
    "ax.scatter(x_3, y_3_walld, label = f'p={p_high} Wald 95%')\n",
    "ax.scatter(x_3, y_3_wilson, label = f'p={p_high} Wilson 95%')\n",
    "\n",
    "ax.legend()\n"
   ]
  }
 ],
 "metadata": {
  "kernelspec": {
   "display_name": "Python 3",
   "language": "python",
   "name": "python3"
  },
  "language_info": {
   "codemirror_mode": {
    "name": "ipython",
    "version": 3
   },
   "file_extension": ".py",
   "mimetype": "text/x-python",
   "name": "python",
   "nbconvert_exporter": "python",
   "pygments_lexer": "ipython3",
   "version": "3.8.0"
  }
 },
 "nbformat": 4,
 "nbformat_minor": 2
}

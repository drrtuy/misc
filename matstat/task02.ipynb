{
 "cells": [
  {
   "cell_type": "code",
   "execution_count": 3,
   "metadata": {},
   "outputs": [
    {
     "name": "stdout",
     "output_type": "stream",
     "text": [
      "The autoreload extension is already loaded. To reload it, use:\n",
      "  %reload_ext autoreload\n"
     ]
    }
   ],
   "source": [
    "%load_ext autoreload\n",
    "%autoreload 2\n",
    "\n",
    "%matplotlib inline"
   ]
  },
  {
   "cell_type": "code",
   "execution_count": 4,
   "metadata": {},
   "outputs": [],
   "source": [
    "import matplotlib.pyplot as plt\n",
    "import numpy as np"
   ]
  },
  {
   "cell_type": "markdown",
   "metadata": {},
   "source": [
    "# Задание 1 из ДЗ"
   ]
  },
  {
   "cell_type": "code",
   "execution_count": 20,
   "metadata": {},
   "outputs": [],
   "source": [
    "import numpy as np\n",
    "\n",
    "import matplotlib.pyplot as plt\n",
    "\n",
    "# Задаю выборку\n",
    "sample = np.array([1.8, 2, 3.3, 2.6, 1.3, -4, 0.5, 0.7, -0.7, 5.1, 5.7, 2])"
   ]
  },
  {
   "cell_type": "markdown",
   "metadata": {},
   "source": [
    "# Несмещенная оценка мат ожидания"
   ]
  },
  {
   "cell_type": "code",
   "execution_count": 21,
   "metadata": {},
   "outputs": [
    {
     "name": "stdout",
     "output_type": "stream",
     "text": [
      "Неспещеная оценка мат ожидания 1.6916666666666664\n"
     ]
    }
   ],
   "source": [
    "x = .0\n",
    "for s in sample:\n",
    "    x = x + s\n",
    "x = x / len(sample)\n",
    "print(\"Неспещеная оценка мат ожидания {}\".format(x))"
   ]
  },
  {
   "cell_type": "markdown",
   "metadata": {},
   "source": [
    "# Несмещенная оценка дисперсии с несмещенной оценкой мат ожидания"
   ]
  },
  {
   "cell_type": "code",
   "execution_count": 24,
   "metadata": {},
   "outputs": [
    {
     "name": "stdout",
     "output_type": "stream",
     "text": [
      "Неспещенная оценка дисперсии 6.542651515151515\n"
     ]
    }
   ],
   "source": [
    "sigma = .0\n",
    "for s in sample:\n",
    "    sigma = sigma + (s - x)**2\n",
    "sigma = sigma / (len(sample) - 1)\n",
    "print(f\"Неспещенная оценка дисперсии {sigma}\")"
   ]
  },
  {
   "cell_type": "markdown",
   "metadata": {},
   "source": [
    "# Несмещенная оценка дисперсии с фактическим значением мат ожидания"
   ]
  },
  {
   "cell_type": "code",
   "execution_count": 19,
   "metadata": {
    "scrolled": true
   },
   "outputs": [
    {
     "name": "stdout",
     "output_type": "stream",
     "text": [
      "оценка дисперсии с фактическим мат ожиданием 6.034166666666667\n",
      "Погрешность оценки дисперсии 8.633333333333333%\n"
     ]
    }
   ],
   "source": [
    "sigma_real_calc = .0\n",
    "mean = 1.5\n",
    "sigma_real = 2.5\n",
    "\n",
    "for s in sample:\n",
    "    sigma_real_calc = sigma_real_calc + (s - mean)**2\n",
    "\n",
    "sigma_real_calc = sigma_real_calc / (len(sample))\n",
    "print(\"оценка дисперсии с фактическим мат ожиданием {}\".format(sigma_real_calc))\n",
    "# Погрешность\n",
    "print(\"Погрешность оценки дисперсии {}%\".format(abs(sigma_real_calc-sigma_real**2) / sigma_real * 100))"
   ]
  },
  {
   "cell_type": "markdown",
   "metadata": {},
   "source": [
    "# Задание 2 из ДЗ. Метод моментов"
   ]
  },
  {
   "cell_type": "markdown",
   "metadata": {},
   "source": [
    "# Оценки мат ожидания и дисперсии для нормального распределения"
   ]
  },
  {
   "cell_type": "code",
   "execution_count": 76,
   "metadata": {
    "scrolled": false
   },
   "outputs": [
    {
     "name": "stdout",
     "output_type": "stream",
     "text": [
      "Оценка мат ожидания 27.680000000000003\n",
      "Оценка дисперсии 8.073264519387433\n"
     ]
    }
   ],
   "source": [
    "freqs = [6, 7, 11, 17, 19, 18, 13, 5, 3, 1]\n",
    "l = len(freqs)\n",
    "total_n = 100.\n",
    "min_ = 10\n",
    "max_ = 54\n",
    "step = int((max_-min_)/l)\n",
    "max_ = max_ + step\n",
    "ranges = [s for s in range(min_ ,max_, step)]\n",
    "means = []\n",
    "calc_freqs = [f/total_n for f in freqs]\n",
    "\n",
    "for idx in range(0,l):\n",
    "    means.append((ranges[idx] + ranges[idx+1])/2)\n",
    "    \n",
    "#print(ranges)\n",
    "#print(means)\n",
    "#print(calc_freqs)\n",
    "\n",
    "calc_mean = 0.\n",
    "for idx in range(0,l):\n",
    "    calc_mean = calc_mean + means[idx]*calc_freqs[idx]\n",
    "\n",
    "print(f\"Оценка мат ожидания {calc_mean}\")\n",
    "\n",
    "calc_sigma = .0\n",
    "for idx in range(0,10):\n",
    "    calc_sigma = calc_sigma + (calc_mean - means[idx])**2*calc_freqs[idx]\n",
    "\n",
    "print(f\"Оценка дисперсии {calc_sigma**0.5}\")"
   ]
  },
  {
   "cell_type": "markdown",
   "metadata": {},
   "source": [
    "# Оценки параметров равномерного распределения"
   ]
  },
  {
   "cell_type": "code",
   "execution_count": 54,
   "metadata": {},
   "outputs": [
    {
     "name": "stdout",
     "output_type": "stream",
     "text": [
      "Оценка параметр а 13.696695669477837\n",
      "Оценка параметр а 41.663304330522166\n"
     ]
    }
   ],
   "source": [
    "print(f\"Оценка параметр а {calc_mean-calc_sigma**0.5*3**0.5}\")\n",
    "print(f\"Оценка параметр а {calc_mean+calc_sigma**0.5*3**0.5}\")"
   ]
  },
  {
   "cell_type": "markdown",
   "metadata": {},
   "source": [
    "# Задание 3 из ДЗ. Метод максимального правдоподобия"
   ]
  },
  {
   "cell_type": "markdown",
   "metadata": {},
   "source": [
    "# Нормальное распределение"
   ]
  },
  {
   "cell_type": "code",
   "execution_count": 83,
   "metadata": {},
   "outputs": [
    {
     "name": "stdout",
     "output_type": "stream",
     "text": [
      "[3, 4, 5, 6, 7, 8, 9, 10, 11, 12, 13, 14, 15]\n",
      "[3.5, 4.5, 5.5, 6.5, 7.5, 8.5, 9.5, 10.5, 11.5, 12.5, 13.5, 14.5]\n",
      "[0.08163265306122448, 0.08503401360544217, 0.0782312925170068, 0.09183673469387756, 0.08843537414965986, 0.08503401360544217, 0.08503401360544217, 0.0782312925170068, 0.08163265306122448, 0.0782312925170068, 0.0782312925170068, 0.08843537414965986]\n",
      "Оценка мат ожидания 8.965986394557822\n",
      "Оценка дисперсии 2.747964284937694\n"
     ]
    },
    {
     "data": {
      "image/png": "[encoded data removed]",
      "text/plain": [
       "<Figure size 432x288 with 1 Axes>"
      ]
     },
     "metadata": {
      "needs_background": "light"
     },
     "output_type": "display_data"
    }
   ],
   "source": [
    "freqs = [24, 25, 23, 27, 26, 25, 25, 23, 24, 23, 23, 26]\n",
    "total_n = sum(freqs)\n",
    "l = len(freqs)\n",
    "min_ = 3\n",
    "max_ = 15\n",
    "step = int((max_-min_)/l)\n",
    "max_ = max_ + step\n",
    "ranges = [s for s in range(min_ ,max_, step)]\n",
    "means = []\n",
    "calc_freqs = [f/total_n for f in freqs]\n",
    "\n",
    "for idx in range(0,l):\n",
    "    means.append((ranges[idx] + ranges[idx+1])/2)\n",
    "    \n",
    "print(ranges)\n",
    "print(means)\n",
    "print(calc_freqs)\n",
    "\n",
    "calc_mean = 0.\n",
    "for idx in range(0,l):\n",
    "    calc_mean = calc_mean + means[idx]*calc_freqs[idx]\n",
    "\n",
    "print(f\"Оценка мат ожидания {calc_mean}\")\n",
    "\n",
    "calc_sigma = .0\n",
    "for idx in range(0,10):\n",
    "    calc_sigma = calc_sigma + (calc_mean - means[idx])**2*calc_freqs[idx]\n",
    "\n",
    "print(f\"Оценка дисперсии {calc_sigma**0.5}\")\n",
    "\n",
    "# Гистограмма\n",
    "run = []\n",
    "for i in range(min_, max_-1):\n",
    "    run += [ i for v in range(0,freqs[i-min_]) ]\n",
    "fig2 = plt.figure()\n",
    "hist1 = fig2.add_subplot(111)\n",
    "hist1.set_ylabel('частота')\n",
    "hist1.set_title('значение')\n",
    "\n",
    "plt.hist(run, len(freqs),\n",
    "         density=True,\n",
    "         histtype='bar',\n",
    "         facecolor='b',\n",
    "         alpha=0.5)\n",
    "\n",
    "plt.show()"
   ]
  },
  {
   "cell_type": "markdown",
   "metadata": {},
   "source": [
    "# Равномерное распределение"
   ]
  },
  {
   "cell_type": "code",
   "execution_count": 84,
   "metadata": {},
   "outputs": [
    {
     "name": "stdout",
     "output_type": "stream",
     "text": [
      "оценка равномерной плотности 4.081632653061225 %\n"
     ]
    }
   ],
   "source": [
    "#С учетом данных слайда №25 из лекции\n",
    "#оценка a\n",
    "x_min = 3\n",
    "x_max = 15\n",
    "n = 294\n",
    "\n",
    "a = x_min\n",
    "# оценка b \n",
    "b = x_max\n",
    "freq = (b - a) / n\n",
    "print(f\"оценка равномерной плотности {freq*100} %\")\n"
   ]
  }
 ],
 "metadata": {
  "kernelspec": {
   "display_name": "Python 3",
   "language": "python",
   "name": "python3"
  },
  "language_info": {
   "codemirror_mode": {
    "name": "ipython",
    "version": 3
   },
   "file_extension": ".py",
   "mimetype": "text/x-python",
   "name": "python",
   "nbconvert_exporter": "python",
   "pygments_lexer": "ipython3",
   "version": "3.6.4"
  }
 },
 "nbformat": 4,
 "nbformat_minor": 2
}

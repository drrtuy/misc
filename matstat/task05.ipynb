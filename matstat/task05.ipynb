{
 "cells": [
  {
   "cell_type": "code",
   "execution_count": 2,
   "metadata": {},
   "outputs": [],
   "source": [
    "%load_ext autoreload\n",
    "%autoreload 2\n",
    "\n",
    "%matplotlib inline"
   ]
  },
  {
   "cell_type": "code",
   "execution_count": 3,
   "metadata": {},
   "outputs": [],
   "source": [
    "import matplotlib.pyplot as plt\n",
    "import numpy as np\n",
    "import pandas as pd\n",
    "from scipy import stats"
   ]
  },
  {
   "cell_type": "markdown",
   "metadata": {},
   "source": [
    "# Однофакторная линейная регрессия"
   ]
  },
  {
   "cell_type": "code",
   "execution_count": 4,
   "metadata": {},
   "outputs": [
    {
     "data": {
      "text/html": [
       "<div>\n",
       "<style scoped>\n",
       "    .dataframe tbody tr th:only-of-type {\n",
       "        vertical-align: middle;\n",
       "    }\n",
       "\n",
       "    .dataframe tbody tr th {\n",
       "        vertical-align: top;\n",
       "    }\n",
       "\n",
       "    .dataframe thead th {\n",
       "        text-align: right;\n",
       "    }\n",
       "</style>\n",
       "<table border=\"1\" class=\"dataframe\">\n",
       "  <thead>\n",
       "    <tr style=\"text-align: right;\">\n",
       "      <th></th>\n",
       "      <th>0</th>\n",
       "      <th>1</th>\n",
       "      <th>2</th>\n",
       "      <th>3</th>\n",
       "      <th>4</th>\n",
       "      <th>5</th>\n",
       "      <th>6</th>\n",
       "      <th>7</th>\n",
       "      <th>8</th>\n",
       "      <th>9</th>\n",
       "      <th>...</th>\n",
       "      <th>14</th>\n",
       "      <th>15</th>\n",
       "      <th>16</th>\n",
       "      <th>17</th>\n",
       "      <th>18</th>\n",
       "      <th>19</th>\n",
       "      <th>20</th>\n",
       "      <th>21</th>\n",
       "      <th>22</th>\n",
       "      <th>23</th>\n",
       "    </tr>\n",
       "  </thead>\n",
       "  <tbody>\n",
       "    <tr>\n",
       "      <th>time</th>\n",
       "      <td>1995-01-01 00:00:00</td>\n",
       "      <td>1995-04-01 00:00:00</td>\n",
       "      <td>1995-07-01 00:00:00</td>\n",
       "      <td>1995-10-01 00:00:00</td>\n",
       "      <td>1996-01-01 00:00:00</td>\n",
       "      <td>1996-04-01 00:00:00</td>\n",
       "      <td>1996-07-01 00:00:00</td>\n",
       "      <td>1996-10-01 00:00:00</td>\n",
       "      <td>1997-01-01 00:00:00</td>\n",
       "      <td>1997-04-01 00:00:00</td>\n",
       "      <td>...</td>\n",
       "      <td>1998-07-01 00:00:00</td>\n",
       "      <td>1998-10-01 00:00:00</td>\n",
       "      <td>1999-01-01 00:00:00</td>\n",
       "      <td>1999-04-01 00:00:00</td>\n",
       "      <td>1999-07-01 00:00:00</td>\n",
       "      <td>1999-10-01 00:00:00</td>\n",
       "      <td>2000-01-01 00:00:00</td>\n",
       "      <td>2000-04-01 00:00:00</td>\n",
       "      <td>2000-07-01 00:00:00</td>\n",
       "      <td>2000-10-01 00:00:00</td>\n",
       "    </tr>\n",
       "    <tr>\n",
       "      <th>GDP</th>\n",
       "      <td>652.87</td>\n",
       "      <td>601.893</td>\n",
       "      <td>590.792</td>\n",
       "      <td>593.667</td>\n",
       "      <td>580.435</td>\n",
       "      <td>612.063</td>\n",
       "      <td>620.847</td>\n",
       "      <td>614.36</td>\n",
       "      <td>609.708</td>\n",
       "      <td>664.246</td>\n",
       "      <td>...</td>\n",
       "      <td>698.793</td>\n",
       "      <td>668.498</td>\n",
       "      <td>663.786</td>\n",
       "      <td>703.213</td>\n",
       "      <td>707.238</td>\n",
       "      <td>694.329</td>\n",
       "      <td>704.055</td>\n",
       "      <td>738.637</td>\n",
       "      <td>753.565</td>\n",
       "      <td>754.459</td>\n",
       "    </tr>\n",
       "    <tr>\n",
       "      <th>Private consumption</th>\n",
       "      <td>357.191</td>\n",
       "      <td>356.533</td>\n",
       "      <td>376.951</td>\n",
       "      <td>379.866</td>\n",
       "      <td>385.749</td>\n",
       "      <td>392.194</td>\n",
       "      <td>417.342</td>\n",
       "      <td>426.991</td>\n",
       "      <td>394.661</td>\n",
       "      <td>416.367</td>\n",
       "      <td>...</td>\n",
       "      <td>469.775</td>\n",
       "      <td>477.421</td>\n",
       "      <td>415.65</td>\n",
       "      <td>477.013</td>\n",
       "      <td>498.525</td>\n",
       "      <td>510.171</td>\n",
       "      <td>447.272</td>\n",
       "      <td>504.1</td>\n",
       "      <td>522.277</td>\n",
       "      <td>533.585</td>\n",
       "    </tr>\n",
       "  </tbody>\n",
       "</table>\n",
       "<p>3 rows × 24 columns</p>\n",
       "</div>"
      ],
      "text/plain": [
       "                                      0                    1   \\\n",
       "time                 1995-01-01 00:00:00  1995-04-01 00:00:00   \n",
       "GDP                               652.87              601.893   \n",
       "Private consumption              357.191              356.533   \n",
       "\n",
       "                                      2                    3   \\\n",
       "time                 1995-07-01 00:00:00  1995-10-01 00:00:00   \n",
       "GDP                              590.792              593.667   \n",
       "Private consumption              376.951              379.866   \n",
       "\n",
       "                                      4                    5   \\\n",
       "time                 1996-01-01 00:00:00  1996-04-01 00:00:00   \n",
       "GDP                              580.435              612.063   \n",
       "Private consumption              385.749              392.194   \n",
       "\n",
       "                                      6                    7   \\\n",
       "time                 1996-07-01 00:00:00  1996-10-01 00:00:00   \n",
       "GDP                              620.847               614.36   \n",
       "Private consumption              417.342              426.991   \n",
       "\n",
       "                                      8                    9   ...  \\\n",
       "time                 1997-01-01 00:00:00  1997-04-01 00:00:00  ...   \n",
       "GDP                              609.708              664.246  ...   \n",
       "Private consumption              394.661              416.367  ...   \n",
       "\n",
       "                                      14                   15  \\\n",
       "time                 1998-07-01 00:00:00  1998-10-01 00:00:00   \n",
       "GDP                              698.793              668.498   \n",
       "Private consumption              469.775              477.421   \n",
       "\n",
       "                                      16                   17  \\\n",
       "time                 1999-01-01 00:00:00  1999-04-01 00:00:00   \n",
       "GDP                              663.786              703.213   \n",
       "Private consumption               415.65              477.013   \n",
       "\n",
       "                                      18                   19  \\\n",
       "time                 1999-07-01 00:00:00  1999-10-01 00:00:00   \n",
       "GDP                              707.238              694.329   \n",
       "Private consumption              498.525              510.171   \n",
       "\n",
       "                                      20                   21  \\\n",
       "time                 2000-01-01 00:00:00  2000-04-01 00:00:00   \n",
       "GDP                              704.055              738.637   \n",
       "Private consumption              447.272                504.1   \n",
       "\n",
       "                                      22                   23  \n",
       "time                 2000-07-01 00:00:00  2000-10-01 00:00:00  \n",
       "GDP                              753.565              754.459  \n",
       "Private consumption              522.277              533.585  \n",
       "\n",
       "[3 rows x 24 columns]"
      ]
     },
     "metadata": {},
     "output_type": "display_data"
    }
   ],
   "source": [
    "data_frame = pd.read_csv('data/russian-gdp-pc.csv', parse_dates=['time'], decimal=',')\n",
    "display(data_frame.T)"
   ]
  },
  {
   "cell_type": "markdown",
   "metadata": {},
   "source": [
    "# Уравнение линейной регрессии по методу наименьших квадратов"
   ]
  },
  {
   "cell_type": "code",
   "execution_count": 44,
   "metadata": {},
   "outputs": [
    {
     "name": "stdout",
     "output_type": "stream",
     "text": [
      "sum_x: 15962.083999999999 sum_y: 10514.885999999999 sum_xy: 7048137.790144 sum_xx: 10678569.752978\n",
      "Коэффициент b: 0.8786449496333661 коэффициент a: -146.2549371759817\n",
      "Уравненение линейной регресии y = 0.8786449496333661 * x_i -146.2549371759817\n"
     ]
    }
   ],
   "source": [
    "size = data_frame['GDP'].count()\n",
    "y__ = data_frame['Private consumption']\n",
    "sum_y = y__.sum()\n",
    "sum_x = data_frame['GDP'].sum()\n",
    "product_data_frame = data_frame['GDP'] * data_frame['Private consumption']\n",
    "sum_xy = product_data_frame.sum()\n",
    "pc_squared = data_frame['GDP']*data_frame['GDP'].T\n",
    "#print(pc_squared)\n",
    "sum_xx = pc_squared.sum()\n",
    "print(f'sum_x: {sum_x} sum_y: {sum_y} sum_xy: {sum_xy} sum_xx: {sum_xx}') \n",
    "# generic linear regression equation\n",
    "coef_b = (size * sum_xy - sum_x * sum_y)/(size * sum_xx - sum_x**2)\n",
    "coef_a = (sum_y - coef_b * sum_x)/size\n",
    "print(f'Коэффициент b: {coef_b} коэффициент a: {coef_a}')\n",
    "print(f'Уравненение линейной регресии y = {coef_b} * x_i {coef_a}')"
   ]
  },
  {
   "cell_type": "markdown",
   "metadata": {},
   "source": [
    "# График линии регрессии с наблюдаемыми данными"
   ]
  },
  {
   "cell_type": "code",
   "execution_count": 6,
   "metadata": {},
   "outputs": [
    {
     "data": {
      "image/png": "[encoded data removed]",
      "text/plain": [
       "<Figure size 720x720 with 1 Axes>"
      ]
     },
     "metadata": {
      "needs_background": "light"
     },
     "output_type": "display_data"
    }
   ],
   "source": [
    "plt.rcParams[\"figure.figsize\"] = (10,10)\n",
    "plt.scatter(data_frame['GDP'], data_frame['Private consumption'])\n",
    "linear_x = data_frame['GDP'] #np.arange(550, 800, 2)\n",
    "#inear_x = np.arange(550, 800, 2)\n",
    "linear_y = coef_b * linear_x + coef_a\n",
    "plt.plot(linear_x, linear_y, 'r')\n",
    "plt.show()"
   ]
  },
  {
   "cell_type": "markdown",
   "metadata": {},
   "source": [
    "# Коэффициент детерминации и дисперсии коэффициентов"
   ]
  },
  {
   "cell_type": "code",
   "execution_count": 25,
   "metadata": {},
   "outputs": [
    {
     "name": "stdout",
     "output_type": "stream",
     "text": [
      " СКО alpha: 71.10411002142989, СКО beta: 0.10659670521946862\n",
      "8.242702697277101\n"
     ]
    }
   ],
   "source": [
    "# Коэффициент дерерминации\n",
    "__y = data_frame['Private consumption']\n",
    "__y_mean = __y.mean()\n",
    "__y_model_var = (linear_y-__y_mean)**2 # Сумма квадратов, объяснённая моделью\n",
    "__y_left_var = (__y - __y_mean)**2 # Полная сумма квадратов\n",
    "r_squared = __y_model_var.sum()/__y_left_var.sum() # Коэффициент детерминации\n",
    "\n",
    "# Используем остаточную сумму квадратов\n",
    "__D_est = 1./(size - 2) * ((__y - linear_y)**2).sum() # Несмещённая оценка дисперсии\n",
    "# Оценка дисперсии для alpha\n",
    "#alpha_D_est = __D_est * (linear_x**2).sum()/(size * ((linear_x - linear_x.mean())**2).sum())\n",
    "alpha_D_est = __D_est *( 1./size + linear_x.mean()**2/((linear_x - linear_x.mean())**2).sum())\n",
    "# Оценка дисперсии для beta\n",
    "beta_D_est = __D_est / ((linear_x - linear_x.mean())**2).sum()\n",
    "\n",
    "print(f\" СКО alpha: {alpha_D_est**0.5}, СКО beta: {beta_D_est**0.5}\")"
   ]
  },
  {
   "cell_type": "markdown",
   "metadata": {
    "scrolled": false
   },
   "source": [
    "# Доверительные интервалы для коэффициентов"
   ]
  },
  {
   "cell_type": "code",
   "execution_count": 24,
   "metadata": {},
   "outputs": [
    {
     "name": "stdout",
     "output_type": "stream",
     "text": [
      "доверительный интервал alpha: (-395.4748428010935, 102.96496844913005)\n",
      "доверительный интервал beta: (0.5050234978391286, 1.2522664014276037)\n"
     ]
    }
   ],
   "source": [
    "# Значение t(v,p) = 3.5050, где v = size - 2 = 22, а p = 0.999\n",
    "# Интервал для коэффициентов вычисляется как (точечная оценка - t(v,p)* СКО, точечная оценка + t(v,p)* СКО)\n",
    "t_v_p = 3.5050\n",
    "alpha_trusted_range_min = coef_a - t_v_p * alpha_D_est**0.5\n",
    "alpha_trusted_range_max = coef_a + t_v_p * alpha_D_est**0.5\n",
    "beta_trusted_range_min = coef_b - t_v_p * beta_D_est**0.5\n",
    "beta_trusted_range_max = coef_b + t_v_p * beta_D_est**0.5\n",
    "print(f\"доверительный интервал alpha: ({alpha_trusted_range_min}, {alpha_trusted_range_max})\")\n",
    "print(f\"доверительный интервал beta: ({beta_trusted_range_min}, {beta_trusted_range_max})\")"
   ]
  },
  {
   "cell_type": "markdown",
   "metadata": {},
   "source": [
    "# Проверка значимости коэффициентов регрессии"
   ]
  },
  {
   "cell_type": "code",
   "execution_count": 43,
   "metadata": {},
   "outputs": [
    {
     "name": "stdout",
     "output_type": "stream",
     "text": [
      "8.242702697277101 > t(v,p) = 3.505, следовательно H0 из задания 1 отвергается.\n"
     ]
    }
   ],
   "source": [
    "print(f\"{coef_b/beta_D_est**0.5} > t(v,p) = {t_v_p}, следовательно H0 из задания 1 отвергается.\")\n",
    "#equal_var"
   ]
  },
  {
   "cell_type": "markdown",
   "metadata": {},
   "source": [
    "# Проверка адекватности уравнения регрессии"
   ]
  },
  {
   "cell_type": "code",
   "execution_count": 52,
   "metadata": {},
   "outputs": [
    {
     "name": "stdout",
     "output_type": "stream",
     "text": [
      "67.94214775569995\n",
      "0.7553983249348659\n",
      "Гипотеза H0 о том, что модель адекватна с уровнем значимости alpha__:{alpha__} верна.\n"
     ]
    }
   ],
   "source": [
    "F_est = r_squared /( 1. - r_squared) *(size-2)\n",
    "print(f\"{F_est}\")\n",
    "F_est_2 = linear_y.var()/y__.var()\n",
    "print(f\"{F_est_2}\")\n",
    "alpha__ = 0.05 # уровень значимости\n",
    "p_value = stats.f.cdf(F_est_2, len(y__)-1, len(linear_y)-1)\n",
    "if p_value > alpha__:\n",
    "    print(\"Гипотеза H0 о том, что модель адекватна с уровнем значимости alpha__:{alpha__} верна.\")\n",
    "else:\n",
    "    print(\"Гипотеза H0 о том, что модель адекватна с уровнем значимости alpha__:{alpha__} неверна.\")"
   ]
  },
  {
   "cell_type": "markdown",
   "metadata": {},
   "source": [
    "# Источники\n",
    "- http://sun.tsu.ru/mminfo/2016/Dombrovski/book/chapter-2/chapter-2-4.htm\n",
    "- https://function-x.ru/statistics_regression1.html"
   ]
  }
 ],
 "metadata": {
  "kernelspec": {
   "display_name": "Python 3",
   "language": "python",
   "name": "python3"
  },
  "language_info": {
   "codemirror_mode": {
    "name": "ipython",
    "version": 3
   },
   "file_extension": ".py",
   "mimetype": "text/x-python",
   "name": "python",
   "nbconvert_exporter": "python",
   "pygments_lexer": "ipython3",
   "version": "3.8.0"
  }
 },
 "nbformat": 4,
 "nbformat_minor": 2
}

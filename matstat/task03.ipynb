{
 "cells": [
  {
   "cell_type": "code",
   "execution_count": 2,
   "metadata": {},
   "outputs": [],
   "source": [
    "%load_ext autoreload\n",
    "%autoreload 2\n",
    "\n",
    "%matplotlib inline"
   ]
  },
  {
   "cell_type": "code",
   "execution_count": 3,
   "metadata": {},
   "outputs": [],
   "source": [
    "import matplotlib.pyplot as plt\n",
    "import numpy as np\n",
    "import pandas as pd\n",
    "from scipy import stats"
   ]
  },
  {
   "cell_type": "markdown",
   "metadata": {},
   "source": [
    "# Задание 1 из ДЗ"
   ]
  },
  {
   "cell_type": "code",
   "execution_count": 4,
   "metadata": {},
   "outputs": [
    {
     "data": {
      "text/html": [
       "<div>\n",
       "<style scoped>\n",
       "    .dataframe tbody tr th:only-of-type {\n",
       "        vertical-align: middle;\n",
       "    }\n",
       "\n",
       "    .dataframe tbody tr th {\n",
       "        vertical-align: top;\n",
       "    }\n",
       "\n",
       "    .dataframe thead th {\n",
       "        text-align: right;\n",
       "    }\n",
       "</style>\n",
       "<table border=\"1\" class=\"dataframe\">\n",
       "  <thead>\n",
       "    <tr style=\"text-align: right;\">\n",
       "      <th></th>\n",
       "      <th>Вариант 1</th>\n",
       "      <th>1</th>\n",
       "      <th>2</th>\n",
       "      <th>3</th>\n",
       "      <th>4</th>\n",
       "      <th>5</th>\n",
       "      <th>6</th>\n",
       "      <th>7</th>\n",
       "      <th>Вариант 2</th>\n",
       "      <th>1.1</th>\n",
       "      <th>2.1</th>\n",
       "      <th>3.1</th>\n",
       "      <th>4.1</th>\n",
       "      <th>5.1</th>\n",
       "      <th>6.1</th>\n",
       "      <th>7.1</th>\n",
       "    </tr>\n",
       "  </thead>\n",
       "  <tbody>\n",
       "    <tr>\n",
       "      <th>0</th>\n",
       "      <td>NaN</td>\n",
       "      <td>-2.488</td>\n",
       "      <td>6.318</td>\n",
       "      <td>3</td>\n",
       "      <td>9.223</td>\n",
       "      <td>0.604</td>\n",
       "      <td>1.0</td>\n",
       "      <td>1.0</td>\n",
       "      <td>NaN</td>\n",
       "      <td>-0.108</td>\n",
       "      <td>7.373</td>\n",
       "      <td>5.0</td>\n",
       "      <td>3.399</td>\n",
       "      <td>0.155</td>\n",
       "      <td>2.0</td>\n",
       "      <td>2.0</td>\n",
       "    </tr>\n",
       "    <tr>\n",
       "      <th>1</th>\n",
       "      <td>NaN</td>\n",
       "      <td>1.099</td>\n",
       "      <td>7.149</td>\n",
       "      <td>1</td>\n",
       "      <td>2.746</td>\n",
       "      <td>0.405</td>\n",
       "      <td>1.0</td>\n",
       "      <td>0.0</td>\n",
       "      <td>NaN</td>\n",
       "      <td>0.885</td>\n",
       "      <td>6.478</td>\n",
       "      <td>2.0</td>\n",
       "      <td>2.749</td>\n",
       "      <td>0.305</td>\n",
       "      <td>2.0</td>\n",
       "      <td>2.0</td>\n",
       "    </tr>\n",
       "    <tr>\n",
       "      <th>2</th>\n",
       "      <td>NaN</td>\n",
       "      <td>2.127</td>\n",
       "      <td>7.929</td>\n",
       "      <td>2</td>\n",
       "      <td>7.489</td>\n",
       "      <td>0.158</td>\n",
       "      <td>6.0</td>\n",
       "      <td>5.0</td>\n",
       "      <td>NaN</td>\n",
       "      <td>0.320</td>\n",
       "      <td>5.356</td>\n",
       "      <td>4.0</td>\n",
       "      <td>3.071</td>\n",
       "      <td>0.458</td>\n",
       "      <td>5.0</td>\n",
       "      <td>0.0</td>\n",
       "    </tr>\n",
       "    <tr>\n",
       "      <th>3</th>\n",
       "      <td>NaN</td>\n",
       "      <td>3.664</td>\n",
       "      <td>3.838</td>\n",
       "      <td>0</td>\n",
       "      <td>7.191</td>\n",
       "      <td>0.248</td>\n",
       "      <td>3.0</td>\n",
       "      <td>15.0</td>\n",
       "      <td>NaN</td>\n",
       "      <td>1.013</td>\n",
       "      <td>8.544</td>\n",
       "      <td>3.0</td>\n",
       "      <td>6.221</td>\n",
       "      <td>0.457</td>\n",
       "      <td>5.0</td>\n",
       "      <td>1.0</td>\n",
       "    </tr>\n",
       "    <tr>\n",
       "      <th>4</th>\n",
       "      <td>NaN</td>\n",
       "      <td>3.895</td>\n",
       "      <td>-1.578</td>\n",
       "      <td>1</td>\n",
       "      <td>3.230</td>\n",
       "      <td>0.151</td>\n",
       "      <td>2.0</td>\n",
       "      <td>9.0</td>\n",
       "      <td>NaN</td>\n",
       "      <td>-0.051</td>\n",
       "      <td>9.697</td>\n",
       "      <td>4.0</td>\n",
       "      <td>3.153</td>\n",
       "      <td>0.813</td>\n",
       "      <td>6.0</td>\n",
       "      <td>2.0</td>\n",
       "    </tr>\n",
       "    <tr>\n",
       "      <th>...</th>\n",
       "      <td>...</td>\n",
       "      <td>...</td>\n",
       "      <td>...</td>\n",
       "      <td>...</td>\n",
       "      <td>...</td>\n",
       "      <td>...</td>\n",
       "      <td>...</td>\n",
       "      <td>...</td>\n",
       "      <td>...</td>\n",
       "      <td>...</td>\n",
       "      <td>...</td>\n",
       "      <td>...</td>\n",
       "      <td>...</td>\n",
       "      <td>...</td>\n",
       "      <td>...</td>\n",
       "      <td>...</td>\n",
       "    </tr>\n",
       "    <tr>\n",
       "      <th>998</th>\n",
       "      <td>NaN</td>\n",
       "      <td>NaN</td>\n",
       "      <td>NaN</td>\n",
       "      <td>2</td>\n",
       "      <td>NaN</td>\n",
       "      <td>NaN</td>\n",
       "      <td>NaN</td>\n",
       "      <td>NaN</td>\n",
       "      <td>NaN</td>\n",
       "      <td>NaN</td>\n",
       "      <td>NaN</td>\n",
       "      <td>NaN</td>\n",
       "      <td>NaN</td>\n",
       "      <td>NaN</td>\n",
       "      <td>NaN</td>\n",
       "      <td>NaN</td>\n",
       "    </tr>\n",
       "    <tr>\n",
       "      <th>999</th>\n",
       "      <td>NaN</td>\n",
       "      <td>NaN</td>\n",
       "      <td>NaN</td>\n",
       "      <td>3</td>\n",
       "      <td>NaN</td>\n",
       "      <td>NaN</td>\n",
       "      <td>NaN</td>\n",
       "      <td>NaN</td>\n",
       "      <td>NaN</td>\n",
       "      <td>NaN</td>\n",
       "      <td>NaN</td>\n",
       "      <td>NaN</td>\n",
       "      <td>NaN</td>\n",
       "      <td>NaN</td>\n",
       "      <td>NaN</td>\n",
       "      <td>NaN</td>\n",
       "    </tr>\n",
       "    <tr>\n",
       "      <th>1000</th>\n",
       "      <td>NaN</td>\n",
       "      <td>NaN</td>\n",
       "      <td>NaN</td>\n",
       "      <td>4</td>\n",
       "      <td>NaN</td>\n",
       "      <td>NaN</td>\n",
       "      <td>NaN</td>\n",
       "      <td>NaN</td>\n",
       "      <td>NaN</td>\n",
       "      <td>NaN</td>\n",
       "      <td>NaN</td>\n",
       "      <td>NaN</td>\n",
       "      <td>NaN</td>\n",
       "      <td>NaN</td>\n",
       "      <td>NaN</td>\n",
       "      <td>NaN</td>\n",
       "    </tr>\n",
       "    <tr>\n",
       "      <th>1001</th>\n",
       "      <td>NaN</td>\n",
       "      <td>NaN</td>\n",
       "      <td>NaN</td>\n",
       "      <td>2</td>\n",
       "      <td>NaN</td>\n",
       "      <td>NaN</td>\n",
       "      <td>NaN</td>\n",
       "      <td>NaN</td>\n",
       "      <td>NaN</td>\n",
       "      <td>NaN</td>\n",
       "      <td>NaN</td>\n",
       "      <td>NaN</td>\n",
       "      <td>NaN</td>\n",
       "      <td>NaN</td>\n",
       "      <td>NaN</td>\n",
       "      <td>NaN</td>\n",
       "    </tr>\n",
       "    <tr>\n",
       "      <th>1002</th>\n",
       "      <td>NaN</td>\n",
       "      <td>NaN</td>\n",
       "      <td>NaN</td>\n",
       "      <td>2</td>\n",
       "      <td>NaN</td>\n",
       "      <td>NaN</td>\n",
       "      <td>NaN</td>\n",
       "      <td>NaN</td>\n",
       "      <td>NaN</td>\n",
       "      <td>NaN</td>\n",
       "      <td>NaN</td>\n",
       "      <td>NaN</td>\n",
       "      <td>NaN</td>\n",
       "      <td>NaN</td>\n",
       "      <td>NaN</td>\n",
       "      <td>NaN</td>\n",
       "    </tr>\n",
       "  </tbody>\n",
       "</table>\n",
       "<p>1003 rows × 16 columns</p>\n",
       "</div>"
      ],
      "text/plain": [
       "      Вариант 1      1      2  3      4      5    6     7  Вариант 2    1.1  \\\n",
       "0           NaN -2.488  6.318  3  9.223  0.604  1.0   1.0        NaN -0.108   \n",
       "1           NaN  1.099  7.149  1  2.746  0.405  1.0   0.0        NaN  0.885   \n",
       "2           NaN  2.127  7.929  2  7.489  0.158  6.0   5.0        NaN  0.320   \n",
       "3           NaN  3.664  3.838  0  7.191  0.248  3.0  15.0        NaN  1.013   \n",
       "4           NaN  3.895 -1.578  1  3.230  0.151  2.0   9.0        NaN -0.051   \n",
       "...         ...    ...    ... ..    ...    ...  ...   ...        ...    ...   \n",
       "998         NaN    NaN    NaN  2    NaN    NaN  NaN   NaN        NaN    NaN   \n",
       "999         NaN    NaN    NaN  3    NaN    NaN  NaN   NaN        NaN    NaN   \n",
       "1000        NaN    NaN    NaN  4    NaN    NaN  NaN   NaN        NaN    NaN   \n",
       "1001        NaN    NaN    NaN  2    NaN    NaN  NaN   NaN        NaN    NaN   \n",
       "1002        NaN    NaN    NaN  2    NaN    NaN  NaN   NaN        NaN    NaN   \n",
       "\n",
       "        2.1  3.1    4.1    5.1  6.1  7.1  \n",
       "0     7.373  5.0  3.399  0.155  2.0  2.0  \n",
       "1     6.478  2.0  2.749  0.305  2.0  2.0  \n",
       "2     5.356  4.0  3.071  0.458  5.0  0.0  \n",
       "3     8.544  3.0  6.221  0.457  5.0  1.0  \n",
       "4     9.697  4.0  3.153  0.813  6.0  2.0  \n",
       "...     ...  ...    ...    ...  ...  ...  \n",
       "998     NaN  NaN    NaN    NaN  NaN  NaN  \n",
       "999     NaN  NaN    NaN    NaN  NaN  NaN  \n",
       "1000    NaN  NaN    NaN    NaN  NaN  NaN  \n",
       "1001    NaN  NaN    NaN    NaN  NaN  NaN  \n",
       "1002    NaN  NaN    NaN    NaN  NaN  NaN  \n",
       "\n",
       "[1003 rows x 16 columns]"
      ]
     },
     "metadata": {},
     "output_type": "display_data"
    }
   ],
   "source": [
    "runs = pd.read_excel('./data/Vyborki_LR_3.xls')\n",
    "display(runs)"
   ]
  },
  {
   "cell_type": "markdown",
   "metadata": {},
   "source": [
    "# Определение параметров выборок и типа распределения"
   ]
  },
  {
   "cell_type": "code",
   "execution_count": 5,
   "metadata": {},
   "outputs": [],
   "source": [
    "clean_run1 = runs['1'][runs['1'].notna()]\n",
    "clean_run2 = runs['2'][runs['2'].notna()]\n",
    "clean_run3 = runs['3'][runs['3'].notna()]\n",
    "clean_run4 = runs['4'][runs['4'].notna()]\n",
    "clean_run5 = runs['5'][runs['5'].notna()]\n",
    "clean_run6 = runs['6'][runs['6'].notna()]\n",
    "clean_run7 = runs['7'][runs['7'].notna()]\n"
   ]
  },
  {
   "cell_type": "code",
   "execution_count": 6,
   "metadata": {},
   "outputs": [
    {
     "name": "stdout",
     "output_type": "stream",
     "text": [
      "[3 6 9]\n"
     ]
    }
   ],
   "source": [
    "a = np.array([1,2,3])\n",
    "b = a * 3\n",
    "print(b)"
   ]
  },
  {
   "cell_type": "code",
   "execution_count": 7,
   "metadata": {},
   "outputs": [
    {
     "name": "stdout",
     "output_type": "stream",
     "text": [
      "Длина выборки №1 505 с оценкой мат. ожидания 1.9897504950495049 и дисперсией 8.76433994556027\n",
      "Выборка № 1 является непрерывной количественной СВ.\n"
     ]
    },
    {
     "data": {
      "image/png": "[encoded data removed]",
      "text/plain": [
       "<Figure size 432x288 with 1 Axes>"
      ]
     },
     "metadata": {
      "needs_background": "light"
     },
     "output_type": "display_data"
    },
    {
     "name": "stdout",
     "output_type": "stream",
     "text": [
      "Гипотиза H0 - выборка задана нормальным распределением с мат. ожиданием 1.9897504950495049 и СКО 2.9604627924634133\n",
      "Проверим гипотизу с помощью критерия Пирсона.\n",
      "Величина критерия равна - 23.474756341774327, а вероятность верности гипотезы - 99.99999999999997%\n"
     ]
    },
    {
     "data": {
      "image/png": "[encoded data removed]",
      "text/plain": [
       "<Figure size 432x288 with 1 Axes>"
      ]
     },
     "metadata": {
      "needs_background": "light"
     },
     "output_type": "display_data"
    }
   ],
   "source": [
    "bins_number = 100\n",
    "x_min = clean_run1.min()\n",
    "x_max = clean_run1.max()\n",
    "step = (x_max - x_min)/bins_number\n",
    "\n",
    "print(f'Длина выборки №1 {len(clean_run1)} с оценкой мат. ожидания {clean_run1.mean()} и дисперсией {clean_run1.var()}' )\n",
    "print(f'Выборка № 1 является непрерывной количественной СВ.')\n",
    "plt.hist(clean_run1, bins_number, density=True, stacked=True)\n",
    "plt.show()\n",
    "res = stats.relfreq(clean_run1, numbins=bins_number)\n",
    "observed_freqs = res.frequency * bins_number\n",
    "#print(observed_freqs)\n",
    "#a = stats.norm.fit(clean_run1, loc=clean_run1.mean(), scale=clean_run1.std())\n",
    "#print(a)\n",
    "# Найти вероятности на 100 интервалах от x_min до x_max с mu=1.99 и var=8.764\n",
    "# Вычислить сумму отклонений наблюдаемой частоты от теоретической на всех интервалах и сравнить со значением chi**2 из таблицы\n",
    "# Вероятность на интервале cdf(lower)-cdf(higher)\n",
    "# cdf - вероятность, pdf - плотность\n",
    "normal_dist = stats.norm(loc=clean_run1.mean(), scale=clean_run1.std())\n",
    "mid_value = x_min + step/2.\n",
    "#print(x_min, x_max, step, mid_value)\n",
    "expected_freqs = []\n",
    "#print(normal_dist.cdf(x_min+step) - normal_dist.cdf(x_min))\n",
    "range_lower = x_min\n",
    "range_higher = x_min + step\n",
    "for a in range(0,bins_number):\n",
    "    expected_freqs.append(normal_dist.cdf(range_higher) - normal_dist.cdf(range_lower))\n",
    "    range_lower += step\n",
    "    range_higher += step\n",
    "expected_freqs = np.array(expected_freqs)\n",
    "expected_freqs = expected_freqs * bins_number\n",
    "#print(expected_freqs)\n",
    "#print(f'{expected_freqs[50]} {observed_freqs[50]}')\n",
    "print(f'Гипотиза H0 - выборка задана нормальным распределением с мат. ожиданием {clean_run1.mean()} и СКО {clean_run1.std()}')\n",
    "x_ = [x_min + step/2.0 + i*step for i in range(0,bins_number)]\n",
    "plt.bar(x_, expected_freqs)\n",
    "print('Проверим гипотизу с помощью критерия Пирсона.')\n",
    "chisq_test_result = stats.chisquare(observed_freqs, f_exp = expected_freqs)\n",
    "print(f'Величина критерия равна - {chisq_test_result.statistic}, а вероятность верности гипотезы - {chisq_test_result.pvalue*100}%')\n",
    "# \"Ручное\" вычисление значения критерия Пирсона\n",
    "#chi_res = 0.0\n",
    "#for i in range(0,len(expected_freqs)-1):\n",
    "#    chi_res += (observed_freqs[i]-expected_freqs[i])**2/expected_freqs[i]\n",
    "#print(chi_res)\n",
    "\n",
    "\n"
   ]
  },
  {
   "cell_type": "code",
   "execution_count": 8,
   "metadata": {},
   "outputs": [
    {
     "name": "stdout",
     "output_type": "stream",
     "text": [
      "-13.499444760239701 12.743650405400992 0.5248619033128139\n",
      "12.743650405400992\n",
      "Длина выборки №2 496 с оценкой мат. ожидания -0.37789717741935486 и СКО 7.57572902912581\n",
      "Выборка №2 является непрерывной количественной СВ.\n",
      "Гипотиза H0 - выборка задана однородным распределением с a=-13.499444760239701 и b=12.743650405400992\n"
     ]
    },
    {
     "data": {
      "image/png": "[encoded data removed]",
      "text/plain": [
       "<Figure size 432x288 with 1 Axes>"
      ]
     },
     "metadata": {
      "needs_background": "light"
     },
     "output_type": "display_data"
    },
    {
     "name": "stdout",
     "output_type": "stream",
     "text": [
      "Проверим гипотизу с помощью критерия Пирсона.\n",
      "Величина критерия равна - 39.98137437506123, а вероятность верности гипотезы - 81.73481636244128%\n"
     ]
    }
   ],
   "source": [
    "id = 2\n",
    "run = clean_run2\n",
    "calc_std = run.std()\n",
    "calc_mean = run.mean()\n",
    "bins_number = 50\n",
    "x_min = calc_mean-3**0.5*calc_std\n",
    "x_max = calc_mean+3**0.5*calc_std\n",
    "step = (x_max - x_min)/bins_number\n",
    "print(x_min, x_max, step)\n",
    "print(calc_mean + 3**0.5*calc_std)\n",
    "\n",
    "print(f'Длина выборки №{id} {len(run)} с оценкой мат. ожидания {calc_mean} и СКО {calc_std}')\n",
    "print(f'Выборка №{id} является непрерывной количественной СВ.')\n",
    "print(f'Гипотиза H0 - выборка задана однородным распределением с a={x_min} и b={x_max}')\n",
    "plt.hist(run, bins_number, density=True, stacked=True)\n",
    "plt.show()\n",
    "\n",
    "# Частоты для оценки параметров однородного распределения вычисляются по-другому.\n",
    "res = stats.relfreq(clean_run1, numbins=bins_number)\n",
    "observed_freqs = res.frequency * bins_number\n",
    "#print(observed_freqs)\n",
    "print('Проверим гипотизу с помощью критерия Пирсона.')\n",
    "#uform = stats.uniform(x_min, x_max-x_min)\n",
    "uform_dist = stats.uniform(x_min, x_max-x_min)\n",
    "#print(uform.cdf(x_min+step)-uform.cdf(x_min))\n",
    "range_lower = x_min\n",
    "range_higher = x_min + step\n",
    "expected_freqs = []\n",
    "for a in range(0, bins_number):\n",
    "    expected_freqs.append(uform_dist.cdf(range_higher) - uform_dist.cdf(range_lower))\n",
    "    range_lower += step\n",
    "    range_higher += step\n",
    "expected_freqs = np.array(expected_freqs)\n",
    "expected_freqs = expected_freqs * bins_number\n",
    "#print(expected_freqs)\n",
    "#expected_freqs = [(uform.cdf(x_min+step)-uform.cdf(x_min)) * bins_number] * bins_number\n",
    "#expected_freqs = calc_mean + 3**0.5*calc_std\n",
    "#print(expected_freqs)\n",
    "chisq_test_result = stats.chisquare(observed_freqs, f_exp = expected_freqs)\n",
    "print(f'Величина критерия равна - {chisq_test_result.statistic}, а вероятность верности гипотезы - {chisq_test_result.pvalue*100}%')\n"
   ]
  },
  {
   "cell_type": "code",
   "execution_count": 9,
   "metadata": {
    "scrolled": false
   },
   "outputs": [
    {
     "name": "stdout",
     "output_type": "stream",
     "text": [
      "Длина выборки №3 1003 с оценкой мат. ожидания 2 и дисперсией 1.2920340774084933\n",
      "Выборка № 3 является дискретной категориальной СВ.\n"
     ]
    },
    {
     "data": {
      "image/png": "[encoded data removed]",
      "text/plain": [
       "<Figure size 432x288 with 1 Axes>"
      ]
     },
     "metadata": {
      "needs_background": "light"
     },
     "output_type": "display_data"
    }
   ],
   "source": [
    "calc_variance3 = clean_run3.var()\n",
    "calc_mean3 = int(round(clean_run3.mean()))\n",
    "print(f'Длина выборки №3 {len(clean_run3)} с оценкой мат. ожидания {calc_mean3} и дисперсией {calc_variance3}')\n",
    "print(f'Выборка № 3 является дискретной категориальной СВ.')\n",
    "bins_number3 = len(clean_run3.value_counts())\n",
    "plt.hist(clean_run3, bins_number3, density=True, stacked=True)\n",
    "plt.show()"
   ]
  },
  {
   "cell_type": "code",
   "execution_count": 10,
   "metadata": {},
   "outputs": [
    {
     "name": "stdout",
     "output_type": "stream",
     "text": [
      "Длина выборки №4 395 с оценкой мат. ожидания 6.176179746835443 и дисперсией 14.262011020908563\n",
      "Выборка №4 является дискретной количественной СВ.\n"
     ]
    },
    {
     "data": {
      "image/png": "[encoded data removed]",
      "text/plain": [
       "<Figure size 432x288 with 1 Axes>"
      ]
     },
     "metadata": {
      "needs_background": "light"
     },
     "output_type": "display_data"
    }
   ],
   "source": [
    "id = 4\n",
    "run = clean_run4\n",
    "calc_variance = run.var()\n",
    "calc_mean = run.mean()\n",
    "bins_number = 50\n",
    "fig, ax = plt.subplots()\n",
    "run.plot.hist(bins=bins_number, density=True, stacked=True)\n",
    "run.plot.kde(ax=ax, legend=False, title='Гистрограмма и ядерная оценка плотности')\n",
    "ax.set_ylabel('Вероятность')\n",
    "ax.grid(axis='y')\n",
    "print(f'Длина выборки №{id} {len(run)} с оценкой мат. ожидания {calc_mean} и дисперсией {calc_variance}')\n",
    "print(f'Выборка №{id} является дискретной количественной СВ.')\n",
    "\n",
    "plt.show()"
   ]
  },
  {
   "cell_type": "code",
   "execution_count": 37,
   "metadata": {},
   "outputs": [
    {
     "name": "stdout",
     "output_type": "stream",
     "text": [
      "0.1929072209174312\n",
      "Длина выборки №5 545 с оценкой мат. ожидания 0.1929072209174312 и СКО 0.1916605947365964\n",
      "Выборка №5 является непрерывной количественной СВ.\n",
      "Гипотиза H0 - выборка задана однородным распределением с lambda=0.1929072209174312\n"
     ]
    },
    {
     "data": {
      "image/png": "[encoded data removed]",
      "text/plain": [
       "<Figure size 432x288 with 1 Axes>"
      ]
     },
     "metadata": {
      "needs_background": "light"
     },
     "output_type": "display_data"
    },
    {
     "name": "stdout",
     "output_type": "stream",
     "text": [
      "0.0 1.639 0.016390000000000002\n",
      "Проверим гипотизу с помощью критерия Пирсона.\n",
      "Величина критерия равна - 36.59482555373048, а вероятность верности гипотезы - 99.9999998734846%\n"
     ]
    }
   ],
   "source": [
    "id = 5\n",
    "run = clean_run5\n",
    "calc_std = run.std()\n",
    "calc_mean = run.mean()\n",
    "bins_number = 100\n",
    "# Оценка для lambda = 1/мат. ожидание\n",
    "calc_lambda = calc_mean\n",
    "print(calc_lambda)\n",
    "print(f'Длина выборки №{id} {len(run)} с оценкой мат. ожидания {calc_mean} и СКО {calc_std}')\n",
    "print(f'Выборка №{id} является непрерывной количественной СВ.')\n",
    "print(f'Гипотиза H0 - выборка задана однородным распределением с lambda={calc_lambda}')\n",
    "plt.hist(run, bins_number, density=True, stacked=True, alpha=0.5)\n",
    "plt.show()\n",
    "\n",
    "x_min = 0.0\n",
    "x_max = run.max()\n",
    "step = (x_max - x_min)/bins_number\n",
    "print(x_min, x_max, step)\n",
    "\n",
    "# Частоты для оценки параметров однородного распределения вычисляются по-другому.\n",
    "res = stats.relfreq(run, numbins=bins_number)\n",
    "observed_freqs = res.frequency * bins_number\n",
    "#print(observed_freqs)\n",
    "print('Проверим гипотизу с помощью критерия Пирсона.')\n",
    "expon_dist = stats.expon(scale=calc_lambda)\n",
    "#print(expon_dist.cdf(x_min+step)-expon_dist.cdf(x_min))\n",
    "range_lower = x_min\n",
    "range_higher = x_min + step\n",
    "expected_freqs = []\n",
    "for a in range(0, bins_number):\n",
    "    expected_freqs.append(expon_dist.cdf(range_higher) - expon_dist.cdf(range_lower))\n",
    "    range_lower += step\n",
    "    range_higher += step\n",
    "expected_freqs = np.array(expected_freqs)\n",
    "expected_freqs = expected_freqs * bins_number\n",
    "#print(expected_freqs)\n",
    "chisq_test_result = stats.chisquare(observed_freqs, f_exp = expected_freqs)\n",
    "print(f'Величина критерия равна - {chisq_test_result.statistic}, а вероятность верности гипотезы - {chisq_test_result.pvalue*100}%')\n",
    "\n",
    "#x_ = [x_min + step/2.0 + i*step for i in range(0,bins_number)]\n",
    "#plt.bar(x_, expected_freqs)\n",
    "#plt.show()"
   ]
  },
  {
   "cell_type": "code",
   "execution_count": 63,
   "metadata": {},
   "outputs": [
    {
     "name": "stdout",
     "output_type": "stream",
     "text": [
      "Длина выборки №6 562 с оценкой мат. ожидания 3.0622775800711746 и дисперсией 3.0388953381417267\n",
      "Выборка №6 является дискретной количественной СВ.\n"
     ]
    },
    {
     "data": {
      "image/png": "[encoded data removed]",
      "text/plain": [
       "<Figure size 432x288 with 1 Axes>"
      ]
     },
     "metadata": {
      "needs_background": "light"
     },
     "output_type": "display_data"
    }
   ],
   "source": [
    "id = 6\n",
    "run = clean_run6\n",
    "calc_variance = run.var()\n",
    "calc_mean = run.mean()\n",
    "bins_number = len(run.value_counts())\n",
    "print(f'Длина выборки №{id} {len(run)} с оценкой мат. ожидания {calc_mean} и дисперсией {calc_variance}')\n",
    "print(f'Выборка №{id} является дискретной категориальной СВ.')\n",
    "plt.hist(run, bins_number, density=True, stacked=True)\n",
    "plt.show()"
   ]
  },
  {
   "cell_type": "code",
   "execution_count": 67,
   "metadata": {},
   "outputs": [
    {
     "name": "stdout",
     "output_type": "stream",
     "text": [
      "Длина выборки №7 599 с оценкой мат. ожидания 4 и дисперсией 18.026208675551786\n",
      "Выборка №7 является дискретной категориальной СВ.\n"
     ]
    },
    {
     "data": {
      "image/png": "[encoded data removed]",
      "text/plain": [
       "<Figure size 432x288 with 1 Axes>"
      ]
     },
     "metadata": {
      "needs_background": "light"
     },
     "output_type": "display_data"
    }
   ],
   "source": [
    "id = 7\n",
    "run = clean_run7\n",
    "calc_variance = run.var()\n",
    "calc_mean = int(round(run.mean()))\n",
    "bins_number = len(run.value_counts())\n",
    "print(f'Длина выборки №{id} {len(run)} с оценкой мат. ожидания {calc_mean} и дисперсией {calc_variance}')\n",
    "print(f'Выборка №{id} является дискретной категориальной СВ.')\n",
    "print(f'Выборка №{id} подчиняется распределению Пуассона.')\n",
    "plt.hist(run, bins_number, density=True, stacked=True)\n",
    "plt.show()"
   ]
  }
 ],
 "metadata": {
  "kernelspec": {
   "display_name": "Python 3",
   "language": "python",
   "name": "python3"
  },
  "language_info": {
   "codemirror_mode": {
    "name": "ipython",
    "version": 3
   },
   "file_extension": ".py",
   "mimetype": "text/x-python",
   "name": "python",
   "nbconvert_exporter": "python",
   "pygments_lexer": "ipython3",
   "version": "3.8.0"
  }
 },
 "nbformat": 4,
 "nbformat_minor": 2
}

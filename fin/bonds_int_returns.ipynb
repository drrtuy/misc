{
 "cells": [
  {
   "cell_type": "code",
   "execution_count": 2,
   "metadata": {},
   "outputs": [],
   "source": [
    "%matplotlib inline"
   ]
  },
  {
   "cell_type": "code",
   "execution_count": 65,
   "metadata": {},
   "outputs": [
    {
     "name": "stdout",
     "output_type": "stream",
     "text": [
      "Доверенное значение 8.1% расчётное значение 8.160%\n",
      "Доверенное значение 9.9% расчётное значение 12.326%\n",
      "Доверенное значение 6.79% расчётное значение 7.159%\n"
     ]
    }
   ],
   "source": [
    "from scipy.optimize import brentq\n",
    "\n",
    "days_in_year = 364.\n",
    "bonds = [\n",
    "    { # the lection example\n",
    "        'N': 1000.,\n",
    "        'P': 1050,\n",
    "        'g': 0.09,\n",
    "        'p': 2.,\n",
    "        'q': 45.,\n",
    "        'T': 3.8,\n",
    "        'n': 0,\n",
    "        'external_returns': 8.1,\n",
    "        'ISIN': 'RU000A100VQ6'\n",
    "    },\n",
    "    { # SoftLine ISIN RU000A0ZZZU3 https://smart-lab.ru/q/bonds/RU000A0ZZZU3 returns 9.9%\n",
    "        'N': 1000.,\n",
    "        'P': 1020,\n",
    "        'g': 0.11,\n",
    "        'p': 2.,\n",
    "        'q': 0.0,\n",
    "        'T': 613./days_in_year,\n",
    "        'n': 0.0,\n",
    "        'external_returns': 9.9,\n",
    "    },\n",
    "    { # Норильский никель ISIN RU000A100VQ6 https://smart-lab.ru/q/bonds/RU000A100VQ6 returns 6.79% \n",
    "        'N': 1000.,\n",
    "        'P': 1009.7,\n",
    "        'g': 0.072,\n",
    "        'p': 2,\n",
    "        'q': 0.0,\n",
    "        'T': 1620./days_in_year,\n",
    "        'n': 0.0,\n",
    "        'external_returns': 6.79,\n",
    "    }\n",
    "]\n",
    "\n",
    "def fill_in_derivatives(bond):\n",
    "    bond['q'] = bond['g'] * bond['N'] / bond['p']\n",
    "    bond['n'] = int(bond['T'] * bond['p'])\n",
    "    if bond['T'] * bond['p'] - bond['n'] != 0:\n",
    "        bond['n'] += 1\n",
    "        \n",
    "\n",
    "for bond in bonds:\n",
    "    fill_in_derivatives(bond)\n",
    "\n",
    "\n",
    "def f(x):\n",
    "    #bond = bonds[2]\n",
    "    n = bond['n']\n",
    "    tau = n / bond['p'] - bond['T']\n",
    "    #print(n)\n",
    "    #print(tau)\n",
    "    #print(bond['T'])\n",
    "    return bond['P'] - (1 + x)**tau * (bond['g'] * bond['N'] / bond['p']\\\n",
    "            * (1 - (1 + x)**(-n/bond['p']))/((1 + x)**(1/bond['p']) - 1) + bond['N'] / (1 + x)**(n / bond['p']))\n",
    "\n",
    "\n",
    "# Ищем корень нелинейного уравнения\n",
    "for bond in bonds:\n",
    "    root = brentq(f, 0.01, 0.2)\n",
    "    print(f\"ISIN {bond['Доверенное значение {bond['external_returns']}% расчётное значение {root*100:.3f}%\")"
   ]
  },
  {
   "cell_type": "code",
   "execution_count": null,
   "metadata": {},
   "outputs": [],
   "source": []
  }
 ],
 "metadata": {
  "kernelspec": {
   "display_name": "Python 3",
   "language": "python",
   "name": "python3"
  },
  "language_info": {
   "codemirror_mode": {
    "name": "ipython",
    "version": 3
   },
   "file_extension": ".py",
   "mimetype": "text/x-python",
   "name": "python",
   "nbconvert_exporter": "python",
   "pygments_lexer": "ipython3",
   "version": "3.8.2"
  }
 },
 "nbformat": 4,
 "nbformat_minor": 2
}
